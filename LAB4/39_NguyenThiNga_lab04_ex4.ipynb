{
 "cells": [
  {
   "cell_type": "markdown",
   "metadata": {},
   "source": [
    "## BÀI TẬP"
   ]
  },
  {
   "cell_type": "code",
   "execution_count": 5,
   "metadata": {},
   "outputs": [],
   "source": [
    "# Cài đặt thư viện scipy\n",
    "# !pip install scipy \n",
    "# Import các thư viện thông dụng\n",
    "import numpy as np\n",
    "import pandas as pd\n",
    "import matplotlib.pyplot as plt\n",
    "\n",
    "# Import các distribution packages từ thư viện scipy\n",
    "from scipy.stats import binom\n",
    "from scipy.stats import poisson\n",
    "from scipy.stats import norm\n",
    "from scipy.stats import t"
   ]
  },
  {
   "cell_type": "markdown",
   "metadata": {},
   "source": [
    "**Bài 01:** Một bài thi trắc nghiệm gồm 10 câu hỏi, mỗi câu có 4 phương án trả lời trong đó chỉ có một phương án đúng. Bạn hãy: \n",
    "\n",
    "a. Một sinh viên không học bài làm bài bằng cách chọn ngẫu nhiên một phương án cho mỗi câu hỏi. Bạn hãy dùng hàm random để in ra số câu đúng của bạn sinh viên trong 10 lần kiểm tra.\n",
    "\n",
    "b. Giả sử mỗi câu đúng được 4 điểm, mỗi câu sai bị trừ 2 điểm. Tính xác suất để sinh viên này được 4 điểm\n",
    "\n",
    "c. Gọi X là số câu trả lời đúng. Tính E(X) và Var(X)"
   ]
  },
  {
   "cell_type": "code",
   "execution_count": 7,
   "metadata": {},
   "outputs": [
    {
     "data": {
      "text/plain": [
       "array([4, 4, 2, 5, 2, 3, 1, 3, 2, 2], dtype=int64)"
      ]
     },
     "execution_count": 7,
     "metadata": {},
     "output_type": "execute_result"
    }
   ],
   "source": [
    "# PHÂN PHỐI NHỊ THỨC : \n",
    "# a.Một sinh viên không học bài làm bài bằng cách chọn ngẫu nhiên một phương án cho mỗi câu hỏi. Bạn hãy dùng hàm random để in ra số câu đúng của bạn sinh viên trong 10 lần kiểm tra.\n",
    "n, p = 10, 0.25\n",
    "binom.rvs(n, p, size=10)"
   ]
  },
  {
   "cell_type": "code",
   "execution_count": 8,
   "metadata": {},
   "outputs": [
    {
     "data": {
      "text/plain": [
       "0.14599800109863273"
      ]
     },
     "execution_count": 8,
     "metadata": {},
     "output_type": "execute_result"
    }
   ],
   "source": [
    "# b. Giả sử mỗi câu đúng được 4 điểm, mỗi câu sai bị trừ 2 điểm. Tính xác suất để sinh viên này được 4 điểm\n",
    "# X (BNN rời rạc) = câu đúng => 10 - X = câu sai\n",
    "# 4X - 2(10 - X) = 4 => X = 4 => P(X = 4)\n",
    "binom.pmf(4,n,p)"
   ]
  },
  {
   "cell_type": "code",
   "execution_count": 9,
   "metadata": {},
   "outputs": [
    {
     "name": "stdout",
     "output_type": "stream",
     "text": [
      "x = 0, f(0) = 0.05631351470947268\n",
      "x = 1, f(1) = 0.1877117156982422\n",
      "x = 2, f(2) = 0.28156757354736334\n",
      "x = 3, f(3) = 0.2502822875976561\n",
      "x = 4, f(4) = 0.14599800109863273\n",
      "x = 5, f(5) = 0.058399200439453146\n",
      "x = 6, f(6) = 0.0162220001220703\n",
      "x = 7, f(7) = 0.0030899047851562487\n",
      "x = 8, f(8) = 0.0003862380981445314\n",
      "x = 9, f(9) = 2.8610229492187466e-05\n",
      "x = 10, f(10) = 9.5367431640625e-07\n",
      "\n",
      " E(X) = 2.499999999999999\n",
      "\n",
      " Var(X) = 1.8750000000000027\n"
     ]
    }
   ],
   "source": [
    "# c. Gọi X là số câu trả lời đúng. Tính E(X) và Var(X)\n",
    "ex = 0\n",
    "for x in range(0, 11):\n",
    "    fx = binom.pmf(x, n, p)\n",
    "    print(f'x = {x}, f({x}) = {fx}')\n",
    "    ex += x * fx\n",
    "print(f'\\n E(X) = {ex}')\n",
    "\n",
    "# Var(X) = E(X^2) - [E(X)]^2\n",
    "# E(X^2) = Σ x^2 * P(X = x)\n",
    "\n",
    "variance = 0\n",
    "exSquaredX = 0\n",
    "for x in range(0, 11):\n",
    "    fx = binom.pmf(x, n, p)\n",
    "    # print(f'x = {x}, f({x}) = {fx}')\n",
    "    exSquaredX += x ** 2 * fx\n",
    "\n",
    "variance = exSquaredX - ex ** 2  \n",
    "print(f'\\n Var(X) = {variance}')        "
   ]
  },
  {
   "cell_type": "markdown",
   "metadata": {},
   "source": [
    "**Bài 02:** Một trung tâm bưu điện nhận được 3 cuộc gọi điện thoại mỗi phút. Tính xác suất để trung tâm nhận được 1 cuộc gọi, 2 cuộc gọi, 3 cuộc gọi trong vòng một phút biết số cuộc gọi trong một phút có phân phối Poisson."
   ]
  },
  {
   "cell_type": "code",
   "execution_count": 10,
   "metadata": {},
   "outputs": [
    {
     "name": "stdout",
     "output_type": "stream",
     "text": [
      "Xác suất để trung tâm nhận được 1 cuộc gọi: 0.14936120510359185\n",
      "Xác suất để trung tâm nhận được 2 cuộc gọi: 0.22404180765538775\n",
      "Xác suất để trung tâm nhận được 3 cuộc gọi: 0.22404180765538775\n"
     ]
    }
   ],
   "source": [
    "ld = 3\n",
    "print (f'Xác suất để trung tâm nhận được 1 cuộc gọi: {poisson.pmf(1, ld)}')\n",
    "print (f'Xác suất để trung tâm nhận được 2 cuộc gọi: {poisson.pmf(2, ld)}')\n",
    "print (f'Xác suất để trung tâm nhận được 3 cuộc gọi: {poisson.pmf(3, ld)}')"
   ]
  },
  {
   "cell_type": "markdown",
   "metadata": {},
   "source": [
    "**Bài 03:** Trọng lượng (đơn vị gam) của một loại trái cây có phân phối chuẩn với µ = 500 (gam) gam và $σ^2 = 16 (gam^2)$. Trái cây thu hoạch được phân loại theo trọng lượng như sau:\n",
    "\n",
    "Loại 1: trên 505 gam\n",
    "\n",
    "Loại 2: từ 495 – 505 gam\n",
    "\n",
    "Loại 3: dười 495 gam\n",
    "\n",
    "a. Hãy tính tỷ lệ của mỗi loại.\n",
    "\n",
    "b. Bạn hãy mô phỏng lấy mẫu  20 trái cây trên. Bạn hãy vẽ histogram trọng lượng trái cây và tính giá trị trung bình và độ lệch chuẩn trái cây từ mẫu\n",
    "\n",
    "c. Bạn hãy mô phỏng lấy 100 trái cây trên. Bạn hãy vẽ histogram trọng lượng trái cây và tính giá trị trung bình và độ lệch chuẩn trái cây từ mẫu\n",
    "\n",
    "d. Từ hai cách lấy mẫu ở câu b, c bạn có nhận xét gì không?"
   ]
  },
  {
   "cell_type": "code",
   "execution_count": 11,
   "metadata": {},
   "outputs": [
    {
     "name": "stdout",
     "output_type": "stream",
     "text": [
      "Tỷ lệ loại 1:  0.1056\n",
      "Tỷ lệ loại 2:  0.7887\n",
      "Tỷ lệ loại 3:  0.1056\n"
     ]
    }
   ],
   "source": [
    "# Trung bình µ = 500 (gam) (loc)\n",
    "# Phương sai = 16 gam^2\n",
    "# Độ lệch chuẩn (scale) = sqrt(16)\n",
    "\n",
    "mu, sigma = 500, np.sqrt(16)\n",
    "\n",
    "# a. Hãy tính tỷ lệ của mỗi loại.\n",
    "\n",
    "# Loại 1: trên 505 gam => P(X > 505) = 1 - P(X <= 505) \n",
    "## cdf, ký hiệu là F(x), biểu thị xác suất để một biến ngẫu nhiên X từ phân phối sẽ nhỏ hơn hoặc bằng một giá trị x cụ thể. Trong ký hiệu toán học, F(x) = P(X ≤ x).\n",
    "xs_loai_1 = 1 - norm.cdf(x = 505, loc = mu, scale = sigma)\n",
    "print(f'Tỷ lệ loại 1: {xs_loai_1: .4f}')\n",
    "# Loại 2: từ 495 – 505 gam => P(495 <= X <= 505) = P(X <= 505) - P(X <= 495) \n",
    "xs_loai_2 = norm.cdf(x = 505, loc = mu, scale = sigma) - norm.cdf(x = 495, loc = mu, scale = sigma)\n",
    "print(f'Tỷ lệ loại 2: {xs_loai_2: .4f}')\n",
    "# Loại 3: dưới 495 gam => P(X <= 495)\n",
    "xs_loai_3 = norm.cdf(x = 495, loc = mu, scale = sigma)\n",
    "print(f'Tỷ lệ loại 3: {xs_loai_3: .4f}')\n"
   ]
  },
  {
   "cell_type": "code",
   "execution_count": 69,
   "metadata": {},
   "outputs": [
    {
     "name": "stdout",
     "output_type": "stream",
     "text": [
      "\n",
      "493.797346    1\n",
      "494.392596    1\n",
      "495.076543    1\n",
      "495.750785    1\n",
      "496.037855    1\n",
      "496.322303    1\n",
      "496.362450    1\n",
      "496.866987    1\n",
      "497.734809    1\n",
      "497.986097    1\n",
      "498.711754    1\n",
      "500.274252    1\n",
      "500.398605    1\n",
      "501.894370    1\n",
      "502.347428    1\n",
      "503.164128    1\n",
      "503.254069    1\n",
      "505.611177    1\n",
      "506.199738    1\n",
      "508.761823    1\n",
      "Name: count, dtype: int64\n"
     ]
    },
    {
     "data": {
      "image/png": "[encoded data removed]",
      "text/plain": [
       "<Figure size 640x480 with 1 Axes>"
      ]
     },
     "metadata": {},
     "output_type": "display_data"
    }
   ],
   "source": [
    "# b. Bạn hãy mô phỏng lấy mẫu  20 trái cây trên. \n",
    "#    Bạn hãy vẽ histogram trọng lượng trái cây và tính giá trị trung bình và độ lệch chuẩn trái cây từ mẫu \n",
    "\n",
    "sam_20 = norm.rvs(mu, sigma, size = 20)\n",
    "print(pd.Series(data=sam_20, name='').value_counts().sort_index())\n",
    "# print(sam_20)\n",
    "plt.hist(sam_20, bins = 10, density = True, edgecolor='black', color='pink')\n",
    "plt.xlabel(\"Trọng lượng (gam)\")\n",
    "plt.ylabel(\"Số lượng trái cây\")\n",
    "plt.show()\n",
    "\n",
    "\n"
   ]
  },
  {
   "cell_type": "code",
   "execution_count": 57,
   "metadata": {},
   "outputs": [
    {
     "name": "stdout",
     "output_type": "stream",
     "text": [
      "Giá trị trung bình :  499.3148\n",
      "Độ lệch chuẩn :  3.7429\n"
     ]
    },
    {
     "data": {
      "text/plain": [
       "\n",
       "492.346879    1\n",
       "493.100329    1\n",
       "494.350785    1\n",
       "495.948676    1\n",
       "496.367904    1\n",
       "497.750850    1\n",
       "498.122102    1\n",
       "498.137081    1\n",
       "498.146329    1\n",
       "499.063387    1\n",
       "499.063452    1\n",
       "499.446943    1\n",
       "500.967849    1\n",
       "501.256989    1\n",
       "501.986857    1\n",
       "502.170240    1\n",
       "502.590754    1\n",
       "503.069739    1\n",
       "506.092119    1\n",
       "506.316851    1\n",
       "Name: count, dtype: int64"
      ]
     },
     "execution_count": 57,
     "metadata": {},
     "output_type": "execute_result"
    }
   ],
   "source": [
    "mean_20 = np.mean(sam_20)\n",
    "std_20 = np.std(sam_20)\n",
    "print(f'Giá trị trung bình : {mean_20 : .4f}')\n",
    "print(f'Độ lệch chuẩn : {std_20 : .4f}')\n",
    "\n",
    "\n"
   ]
  },
  {
   "cell_type": "code",
   "execution_count": 41,
   "metadata": {},
   "outputs": [
    {
     "data": {
      "image/png": "[encoded data removed]",
      "text/plain": [
       "<Figure size 640x480 with 1 Axes>"
      ]
     },
     "metadata": {},
     "output_type": "display_data"
    },
    {
     "name": "stdout",
     "output_type": "stream",
     "text": [
      "Giá trị trung bình :  499.5846\n",
      "Độ lệch chuẩn :  3.6145\n"
     ]
    }
   ],
   "source": [
    "# c. Bạn hãy mô phỏng lấy 100 trái cây trên. \n",
    "#    Bạn hãy vẽ histogram trọng lượng trái cây và tính giá trị trung bình và độ lệch chuẩn trái cây từ mẫu\n",
    "\n",
    "np.random.seed(42)\n",
    "sam_100 = norm.rvs(mu, sigma, size = 100)\n",
    "# print(sam_100)\n",
    "plt.hist(sam_100, density = True, edgecolor='black', color='y')\n",
    "plt.xlabel(\"Trọng lượng (gam)\")\n",
    "plt.ylabel(\"Số lượng trái cây\")\n",
    "plt.show()\n",
    "\n",
    "mean_100 = np.mean(sam_100)\n",
    "std_100 = np.std(sam_100)\n",
    "print(f'Giá trị trung bình : {mean_100 : .4f}')\n",
    "print(f'Độ lệch chuẩn : {std_100 : .4f}')\n"
   ]
  },
  {
   "cell_type": "code",
   "execution_count": 14,
   "metadata": {},
   "outputs": [
    {
     "name": "stdout",
     "output_type": "stream",
     "text": [
      "Độ lệch chuẩn mẫu 20 so với mẫu 100: 0.12841512899659469\n",
      "Khi bạn thực hiện nhiều lần, bạn có thể nhận thấy rằng độ lệch chuẩn thường giảm khi kích thước mẫu tăng lên. \n",
      "Điều này phản ánh sự ổn định hơn và độ chính xác cao hơn của ước lượng độ lệch chuẩn khi bạn có một mẫu lớn hơn.\n"
     ]
    }
   ],
   "source": [
    "# d. Từ hai cách lấy mẫu ở câu b, c bạn có nhận xét gì không?\n",
    "print(\"Độ lệch chuẩn mẫu 20 so với mẫu 100:\", std_20 - std_100)\n",
    "print(\"Khi bạn thực hiện nhiều lần, bạn có thể nhận thấy rằng độ lệch chuẩn thường giảm khi kích thước mẫu tăng lên. \\nĐiều này phản ánh sự ổn định hơn và độ chính xác cao hơn của ước lượng độ lệch chuẩn khi bạn có một mẫu lớn hơn.\")"
   ]
  },
  {
   "cell_type": "markdown",
   "metadata": {},
   "source": [
    "**Bài 04:** Mô phỏng tung một con xúc sắc cân đối đồng chất 5000 lần. Dựa vào giá trị mô phỏng, bạn hãy tìm các giá trị xác suất dưới đây:\n",
    "\n",
    "a. Xác suất để  số chấm xuất hiện là 4\n",
    "\n",
    "b. Xác suất để số chấm xuất hiện lớn hơn hoặc bằng 4\n",
    "\n",
    "c. Giả sử biết số chấm xuất hiện lớn hơn hoặc bằng 4. Hãy tìm xác suất để mặt 6 chấm xuất hiện."
   ]
  },
  {
   "cell_type": "code",
   "execution_count": 15,
   "metadata": {},
   "outputs": [
    {
     "data": {
      "image/png": "[encoded data removed]",
      "text/plain": [
       "<Figure size 640x480 with 1 Axes>"
      ]
     },
     "metadata": {},
     "output_type": "display_data"
    }
   ],
   "source": [
    "# Mô phỏng 5000 lần tung xúc sắc\n",
    "n_tosses = 5000\n",
    "n_faces = 6\n",
    "toss_results = np.random.randint(1, n_faces + 1, n_tosses)\n",
    "\n",
    "\n",
    "plt.hist(toss_results, bins= np.arange(0.5, n_faces + 1, 1), edgecolor='black', align='mid')\n",
    "plt.xlabel(\"Mặt xúc sắc\")\n",
    "plt.ylabel(\"Số lần xuất hiện\")\n",
    "plt.title(\"Mô phỏng tung xúc sắc cân đối đồng chất 5000 lần\")\n",
    "plt.show()"
   ]
  },
  {
   "cell_type": "code",
   "execution_count": 16,
   "metadata": {},
   "outputs": [
    {
     "data": {
      "text/plain": [
       "Số lần xuất hiện\n",
       "1    860\n",
       "2    804\n",
       "3    819\n",
       "4    833\n",
       "5    858\n",
       "6    826\n",
       "Name: count, dtype: int64"
      ]
     },
     "execution_count": 16,
     "metadata": {},
     "output_type": "execute_result"
    }
   ],
   "source": [
    "# Lập bảng phân phối tần số thống kế số lượng xuất hiện các mặt xúc sắc\n",
    "pd.Series(data=toss_results, name='Số lần xuất hiện').value_counts().sort_index()"
   ]
  },
  {
   "cell_type": "code",
   "execution_count": 35,
   "metadata": {},
   "outputs": [
    {
     "name": "stdout",
     "output_type": "stream",
     "text": [
      "Mặt 1: 0.1720\n",
      "Mặt 2: 0.1608\n",
      "Mặt 3: 0.1638\n",
      "Mặt 4: 0.1666\n",
      "Mặt 5: 0.1716\n",
      "Mặt 6: 0.1652\n"
     ]
    }
   ],
   "source": [
    "# Dữ liệu số lần xuất hiện của mỗi mặt xúc sắc\n",
    "frequencies = {\n",
    "    1: 860,\n",
    "    2: 804,\n",
    "    3: 819,\n",
    "    4: 833,\n",
    "    5: 858,\n",
    "    6: 826\n",
    "}\n",
    "\n",
    "# Tổng số lần tung\n",
    "total_tosses = sum(frequencies.values())\n",
    "\n",
    "# Tính xác suất cho mỗi mặt xúc sắc\n",
    "probabilities = {face: count / total_tosses for face, count in frequencies.items()}\n",
    "\n",
    "# Hiển thị xác suất\n",
    "for face, probability in probabilities.items():\n",
    "    print(f'Mặt {face}: {probability:.4f}')\n"
   ]
  },
  {
   "cell_type": "markdown",
   "metadata": {},
   "source": [
    "**Bài 05:** Tạo 5000 số ngẫu nhiên có phân phối nhị thức với n=50, p=0.7 Bạn Hãy\n",
    "\n",
    "a. Tìm các giá trị thống kê: min, max, Q1, Q2, Q3\n",
    "\n",
    "b. Vẽ đồ thị boxplot\n",
    "\n",
    "c. Vẽ các đồ thị: tần số, tần suất"
   ]
  },
  {
   "cell_type": "code",
   "execution_count": 53,
   "metadata": {},
   "outputs": [
    {
     "name": "stdout",
     "output_type": "stream",
     "text": [
      "Min: 23\n",
      "Max: 47\n",
      "Q1: 32.0\n",
      "Q2: 35.0\n",
      "Q3: 37.0\n"
     ]
    }
   ],
   "source": [
    "# a. Tìm các giá trị thống kê: min, max, Q1, Q2, Q3\n",
    "n = 50\n",
    "p = 0.7\n",
    "random_numbers = np.random.binomial(n, p, size=5000)\n",
    "random_numbers\n",
    "\n",
    "min_value = np.min(random_numbers)\n",
    "max_value = np.max(random_numbers)\n",
    "Q1, Q2, Q3 = np.percentile(random_numbers, [20, 50, 75])\n",
    "\n",
    "print(\"Min:\", min_value)\n",
    "print(\"Max:\", max_value)\n",
    "print(\"Q1:\", Q1)\n",
    "print(\"Q2:\", Q2)\n",
    "print(\"Q3:\", Q3)"
   ]
  },
  {
   "cell_type": "code",
   "execution_count": 19,
   "metadata": {},
   "outputs": [
    {
     "data": {
      "image/png": "[encoded data removed]",
      "text/plain": [
       "<Figure size 640x480 with 1 Axes>"
      ]
     },
     "metadata": {},
     "output_type": "display_data"
    }
   ],
   "source": [
    "# b. Vẽ đồ thị boxplot\n",
    "plt.boxplot(random_numbers, vert=False)\n",
    "plt.title(\"Boxplot của phân phối nhị thức\")\n",
    "plt.xlabel(\"Giá trị\")\n",
    "plt.show()"
   ]
  },
  {
   "cell_type": "code",
   "execution_count": 52,
   "metadata": {},
   "outputs": [
    {
     "data": {
      "text/plain": [
       "Text(0, 0.5, 'Tần suất')"
      ]
     },
     "execution_count": 52,
     "metadata": {},
     "output_type": "execute_result"
    },
    {
     "data": {
      "image/png": "[encoded data removed]",
      "text/plain": [
       "<Figure size 640x480 with 1 Axes>"
      ]
     },
     "metadata": {},
     "output_type": "display_data"
    }
   ],
   "source": [
    "# c. Vẽ các đồ thị: tần số, tần suất\n",
    "plt.hist(random_numbers, edgecolor='black')\n",
    "plt.title(\"Histogram của phân phối nhị thức\")\n",
    "plt.xlabel(\"Giá trị\")\n",
    "plt.ylabel(\"Tần suất\")"
   ]
  }
 ],
 "metadata": {
  "kernelspec": {
   "display_name": "Python 3 (ipykernel)",
   "language": "python",
   "name": "python3"
  },
  "language_info": {
   "codemirror_mode": {
    "name": "ipython",
    "version": 3
   },
   "file_extension": ".py",
   "mimetype": "text/x-python",
   "name": "python",
   "nbconvert_exporter": "python",
   "pygments_lexer": "ipython3",
   "version": "3.11.8"
  }
 },
 "nbformat": 4,
 "nbformat_minor": 4
}
