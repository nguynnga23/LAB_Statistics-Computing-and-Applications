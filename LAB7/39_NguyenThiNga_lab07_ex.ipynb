{
 "cells": [
  {
   "cell_type": "markdown",
   "metadata": {},
   "source": [
    "# BÀI TẬP"
   ]
  },
  {
   "cell_type": "markdown",
   "metadata": {},
   "source": [
    "## Kiểm định đặc trưng tỉ lệ (p)"
   ]
  },
  {
   "cell_type": "markdown",
   "metadata": {},
   "source": [
    "### Bài 1\n",
    "\n",
    "Dataset 18 (__M&M__) chứa thông tin trọng lượng và màu sắc của mẫu các viên kẹo của hãng M&M. \n",
    "\n",
    "Sử dụng mẫu trên bạn hãy kiểm tra phát biểu sau: __\"20% kẹo M&M có màu đỏ\"__ với mức ý nghĩa là 5%\n",
    "\n",
    "*Hướng dẫn: tính tỷ lệ các viên kẹo có màu đỏ từ dữ liệu, sử dụng kết quả để kiểm định phát biểu trên*"
   ]
  },
  {
   "cell_type": "code",
   "execution_count": 2,
   "metadata": {},
   "outputs": [
    {
     "name": "stderr",
     "output_type": "stream",
     "text": [
      "C:\\Users\\ACER\\AppData\\Local\\Temp\\ipykernel_14816\\426100267.py:1: DeprecationWarning: \n",
      "Pyarrow will become a required dependency of pandas in the next major release of pandas (pandas 3.0),\n",
      "(to allow more performant data types, such as the Arrow string type, and better interoperability with other libraries)\n",
      "but was not found to be installed on your system.\n",
      "If this would cause problems for you,\n",
      "please provide us feedback at https://github.com/pandas-dev/pandas/issues/54466\n",
      "        \n",
      "  import pandas as pd\n"
     ]
    }
   ],
   "source": [
    "import pandas as pd\n",
    "import numpy as np\n",
    "import scipy.stats as st"
   ]
  },
  {
   "cell_type": "code",
   "execution_count": 10,
   "metadata": {},
   "outputs": [
    {
     "data": {
      "text/html": [
       "<div>\n",
       "<style scoped>\n",
       "    .dataframe tbody tr th:only-of-type {\n",
       "        vertical-align: middle;\n",
       "    }\n",
       "\n",
       "    .dataframe tbody tr th {\n",
       "        vertical-align: top;\n",
       "    }\n",
       "\n",
       "    .dataframe thead th {\n",
       "        text-align: right;\n",
       "    }\n",
       "</style>\n",
       "<table border=\"1\" class=\"dataframe\">\n",
       "  <thead>\n",
       "    <tr style=\"text-align: right;\">\n",
       "      <th></th>\n",
       "      <th>Red</th>\n",
       "      <th>Orange</th>\n",
       "      <th>Yellow</th>\n",
       "      <th>Brown</th>\n",
       "      <th>Blue</th>\n",
       "      <th>Green</th>\n",
       "    </tr>\n",
       "  </thead>\n",
       "  <tbody>\n",
       "    <tr>\n",
       "      <th>0</th>\n",
       "      <td>0.751</td>\n",
       "      <td>0.735</td>\n",
       "      <td>0.883</td>\n",
       "      <td>0.696</td>\n",
       "      <td>0.881</td>\n",
       "      <td>0.925</td>\n",
       "    </tr>\n",
       "    <tr>\n",
       "      <th>1</th>\n",
       "      <td>0.841</td>\n",
       "      <td>0.895</td>\n",
       "      <td>0.769</td>\n",
       "      <td>0.876</td>\n",
       "      <td>0.863</td>\n",
       "      <td>0.914</td>\n",
       "    </tr>\n",
       "    <tr>\n",
       "      <th>2</th>\n",
       "      <td>0.856</td>\n",
       "      <td>0.865</td>\n",
       "      <td>0.859</td>\n",
       "      <td>0.855</td>\n",
       "      <td>0.775</td>\n",
       "      <td>0.881</td>\n",
       "    </tr>\n",
       "    <tr>\n",
       "      <th>3</th>\n",
       "      <td>0.799</td>\n",
       "      <td>0.864</td>\n",
       "      <td>0.784</td>\n",
       "      <td>0.806</td>\n",
       "      <td>0.854</td>\n",
       "      <td>0.865</td>\n",
       "    </tr>\n",
       "    <tr>\n",
       "      <th>4</th>\n",
       "      <td>0.966</td>\n",
       "      <td>0.852</td>\n",
       "      <td>0.824</td>\n",
       "      <td>0.840</td>\n",
       "      <td>0.810</td>\n",
       "      <td>0.865</td>\n",
       "    </tr>\n",
       "  </tbody>\n",
       "</table>\n",
       "</div>"
      ],
      "text/plain": [
       "     Red  Orange  Yellow  Brown   Blue  Green\n",
       "0  0.751   0.735   0.883  0.696  0.881  0.925\n",
       "1  0.841   0.895   0.769  0.876  0.863  0.914\n",
       "2  0.856   0.865   0.859  0.855  0.775  0.881\n",
       "3  0.799   0.864   0.784  0.806  0.854  0.865\n",
       "4  0.966   0.852   0.824  0.840  0.810  0.865"
      ]
     },
     "execution_count": 10,
     "metadata": {},
     "output_type": "execute_result"
    }
   ],
   "source": [
    "data18 = pd.read_excel('./data2/18_M_M.xls')\n",
    "data18.head()"
   ]
  },
  {
   "cell_type": "code",
   "execution_count": 33,
   "metadata": {},
   "outputs": [
    {
     "name": "stdout",
     "output_type": "stream",
     "text": [
      "Tỷ lệ số kẹo màu đỏ: 0.13\n",
      "Giá trị tới hạn: 1.96\n",
      "Trị số kiểm định: -1.75\n"
     ]
    }
   ],
   "source": [
    "# Số kẹo màu đỏ\n",
    "sum_red = data18['Red'].count()\n",
    "# Tổng số kẹo\n",
    "total = data18['Red'].count() + data18['Blue'].count() + data18['Green'].count() + data18['Yellow'].count() + data18['Orange'].count() + data18['Brown'].count()\n",
    "# Tỷ lệ số kẹo màu đỏ\n",
    "rate_red = (sum_red/total).round(2)\n",
    "print('Tỷ lệ số kẹo màu đỏ:', rate_red)\n",
    "# Mức ý nghĩa\n",
    "alpha = 0.05\n",
    "po = 20/100\n",
    "# Tính giá trị tới hạn để xác định miền bác bỏ\n",
    "z = st.norm.isf(alpha/2).round(2)\n",
    "print('Giá trị tới hạn:', z)\n",
    "# Tính trị số kiểm định\n",
    "tri_kiem_dinh = ((rate_red - po) / np.sqrt((po*(1-po))/total)).round(2)\n",
    "print('Trị số kiểm định:', tri_kiem_dinh)\n"
   ]
  },
  {
   "cell_type": "markdown",
   "metadata": {},
   "source": [
    "### Bài 2\n",
    "\n",
    "Dataset 3 (__FRESH15__) chứa thông tin khảo sát những thay đổi về trọng lượng (weight - WT) và chỉ số khối của cơ thể (BMI) của sinh viên năm nhất tại một trường Đại Học. Thời điểm khảo sát là bắt đầu học kỳ (tháng 9 - SEP) và kết thúc học kỳ (tháng 4 - APR), các sinh viên được chọn ngẫu nhiên trong trường.\n",
    "\n",
    "Sử dụng mẫu trên, hãy kiểm tra phát biểu:__\"50% số sinh viên trong trường là nam\"__ với mức ý nghĩa 50%\n",
    "\n",
    "Các thuộc tính trong bộ dữ liệu:\n",
    "- SEX: Giới tính\n",
    "- WTSEP: trọng lượng đo vào tháng 9 (mới nhập học)\n",
    "- WTAPR: trọng lượng đo vào tháng 4 (kết thúc năm học)\n",
    "- BMISP: BMI tháng 9\n",
    "- BMIAP: BMI tháng 4"
   ]
  },
  {
   "cell_type": "code",
   "execution_count": 54,
   "metadata": {},
   "outputs": [
    {
     "data": {
      "text/html": [
       "<div>\n",
       "<style scoped>\n",
       "    .dataframe tbody tr th:only-of-type {\n",
       "        vertical-align: middle;\n",
       "    }\n",
       "\n",
       "    .dataframe tbody tr th {\n",
       "        vertical-align: top;\n",
       "    }\n",
       "\n",
       "    .dataframe thead th {\n",
       "        text-align: right;\n",
       "    }\n",
       "</style>\n",
       "<table border=\"1\" class=\"dataframe\">\n",
       "  <thead>\n",
       "    <tr style=\"text-align: right;\">\n",
       "      <th></th>\n",
       "      <th>SEX</th>\n",
       "      <th>WTSEP</th>\n",
       "      <th>WTAPR</th>\n",
       "      <th>BMISP</th>\n",
       "      <th>BMIAP</th>\n",
       "    </tr>\n",
       "  </thead>\n",
       "  <tbody>\n",
       "    <tr>\n",
       "      <th>0</th>\n",
       "      <td>M</td>\n",
       "      <td>72</td>\n",
       "      <td>59</td>\n",
       "      <td>22.02</td>\n",
       "      <td>18.14</td>\n",
       "    </tr>\n",
       "    <tr>\n",
       "      <th>1</th>\n",
       "      <td>M</td>\n",
       "      <td>97</td>\n",
       "      <td>86</td>\n",
       "      <td>19.70</td>\n",
       "      <td>17.44</td>\n",
       "    </tr>\n",
       "    <tr>\n",
       "      <th>2</th>\n",
       "      <td>M</td>\n",
       "      <td>74</td>\n",
       "      <td>69</td>\n",
       "      <td>24.09</td>\n",
       "      <td>22.43</td>\n",
       "    </tr>\n",
       "    <tr>\n",
       "      <th>3</th>\n",
       "      <td>M</td>\n",
       "      <td>93</td>\n",
       "      <td>88</td>\n",
       "      <td>26.97</td>\n",
       "      <td>25.57</td>\n",
       "    </tr>\n",
       "    <tr>\n",
       "      <th>4</th>\n",
       "      <td>F</td>\n",
       "      <td>68</td>\n",
       "      <td>64</td>\n",
       "      <td>21.51</td>\n",
       "      <td>20.10</td>\n",
       "    </tr>\n",
       "  </tbody>\n",
       "</table>\n",
       "</div>"
      ],
      "text/plain": [
       "  SEX  WTSEP  WTAPR  BMISP  BMIAP\n",
       "0   M     72     59  22.02  18.14\n",
       "1   M     97     86  19.70  17.44\n",
       "2   M     74     69  24.09  22.43\n",
       "3   M     93     88  26.97  25.57\n",
       "4   F     68     64  21.51  20.10"
      ]
     },
     "execution_count": 54,
     "metadata": {},
     "output_type": "execute_result"
    }
   ],
   "source": [
    "data03 = pd.read_excel('./data2/03_FRESH15.xls')\n",
    "data03.head()"
   ]
  },
  {
   "cell_type": "markdown",
   "metadata": {},
   "source": [
    "Tóm tắt: \n",
    "- $p_o = 0.5$\n",
    "- n = 67\n",
    "- f = 0.48\n",
    "- $\\alpha = 0.5$"
   ]
  },
  {
   "cell_type": "code",
   "execution_count": 57,
   "metadata": {},
   "outputs": [
    {
     "name": "stdout",
     "output_type": "stream",
     "text": [
      "Số lượng sinh viên nam: 32\n",
      "Tổng số lượng sinh viên: 67\n",
      "Tỷ lệ sinh viên nam: 0.48\n",
      "Giá trị tới hạn: 0.67\n",
      "Trị số kiểm định: -0.33\n"
     ]
    }
   ],
   "source": [
    "# Tính số lượng sinh viên nam\n",
    "sum_nam = data03.loc[(data03['SEX'] == 'M')].value_counts().sum()\n",
    "print('Số lượng sinh viên nam:', sum_nam)\n",
    "# Tính tổng số lượng sinh viên\n",
    "total = data03.value_counts().sum()\n",
    "print('Tổng số lượng sinh viên:', total)\n",
    "# Tỷ lệ sinh viên nam\n",
    "rate_nam = (sum_nam/total).round(2)\n",
    "print('Tỷ lệ sinh viên nam:', rate_nam)\n",
    "# Mức ý nghĩa\n",
    "alpha = 0.5\n",
    "po = 0.5\n",
    "# Tính giá trị tới hạn để xác định miền bác bỏ\n",
    "z = st.norm.isf(alpha/2).round(2)\n",
    "print('Giá trị tới hạn:', z)\n",
    "# Tính trị số kiểm định\n",
    "tri_kiem_dinh = ((rate_nam - po) / np.sqrt((po*(1-po))/total)).round(2)\n",
    "print('Trị số kiểm định:', tri_kiem_dinh)\n"
   ]
  },
  {
   "cell_type": "markdown",
   "metadata": {},
   "source": [
    "### Bài 3\n",
    "\n",
    "Dataset 6(__BEARS__) chứa thông tin khảo sát ngẫu nhiên các con gấu trong một khu rừng.\n",
    "\n",
    "Sử dụng mẫu trên, bạn hãy kiểm tra phát biểu: __\"tỷ lệ gấu đực trong khu rừng là 50%\"\"__ với mức ý nghĩa 90%.\n",
    "\n",
    "Biết rằng thuộc tính SEX có hai giá trị: 1 - gấu đực, 2- gấu cái."
   ]
  },
  {
   "cell_type": "code",
   "execution_count": 8,
   "metadata": {},
   "outputs": [
    {
     "name": "stdout",
     "output_type": "stream",
     "text": [
      "Số lượng gấu đực: 35\n",
      "Số lượng tổng thể: 54\n",
      "Tỷ lệ gấu đực: 0.65\n",
      "Giá trị tới hạn: 0.13\n",
      "Trị số kiểm định: 2.2\n"
     ]
    }
   ],
   "source": [
    "# Load data\n",
    "data06 = pd.read_excel('./data2/06_BEARS.xls')\n",
    "data06.head()\n",
    "\n",
    "# Số lượng gấu đực\n",
    "gau_duc = data06.loc[(data06['SEX'] == 1)].value_counts().sum()\n",
    "print('Số lượng gấu đực:', gau_duc)\n",
    "\n",
    "# Số lượng tổng thể\n",
    "total = data06.value_counts().sum()\n",
    "print('Số lượng tổng thể:', total)\n",
    "\n",
    "# Tỷ lệ gấu đực\n",
    "rate_gau_duc = (gau_duc/total).round(2)\n",
    "print('Tỷ lệ gấu đực:', rate_gau_duc)\n",
    "\n",
    "# Mức ý nghĩa\n",
    "alpha = 0.9\n",
    "po = 0.5\n",
    "\n",
    "# Tính giá trị tới hạn để xác định miền bác bỏ\n",
    "z = st.norm.isf(alpha/2).round(2)\n",
    "print('Giá trị tới hạn:', z)\n",
    "\n",
    "# Tính trị số kiểm định\n",
    "tri_kiem_dinh = ((rate_gau_duc - po) / np.sqrt((po*(1-po))/total)).round(2)\n",
    "print('Trị số kiểm định:', tri_kiem_dinh)"
   ]
  },
  {
   "cell_type": "markdown",
   "metadata": {},
   "source": [
    "### Bài 4\n",
    "\n",
    "Dataset 9 __(MOVIES)__ chứa thông tin khảo sát một số phim trong khoảng thời gian 33 năm gần đây.\n",
    "\n",
    "Có ý kiến cho rằng: __\"55% các phim trong khoảng thời gian 33 năm gần đây có nhãn R (là phim giới hạn độ tuổi - Restricted)\"__ .Theo bạn với mức ý nghĩa 95% ý kiến trên có đúng không?\n",
    "\n",
    "Tham khảo: [Hệ thống phân loại của hiệp hội điện ảnh Mỹ](https://vi.wikipedia.org/wiki/H%E1%BB%87_th%E1%BB%91ng_ph%C3%A2n_lo%E1%BA%A1i_phim_c%E1%BB%A7a_MPAA#Ph%C3%A2n_lo%E1%BA%A1i_v%E1%BB%9Bi_c%C3%A1c_trailer_phim)"
   ]
  },
  {
   "cell_type": "code",
   "execution_count": 5,
   "metadata": {},
   "outputs": [],
   "source": [
    "import pandas as pd\n",
    "import numpy as np\n",
    "import scipy.stats as st"
   ]
  },
  {
   "cell_type": "code",
   "execution_count": 9,
   "metadata": {},
   "outputs": [
    {
     "data": {
      "text/html": [
       "<div>\n",
       "<style scoped>\n",
       "    .dataframe tbody tr th:only-of-type {\n",
       "        vertical-align: middle;\n",
       "    }\n",
       "\n",
       "    .dataframe tbody tr th {\n",
       "        vertical-align: top;\n",
       "    }\n",
       "\n",
       "    .dataframe thead th {\n",
       "        text-align: right;\n",
       "    }\n",
       "</style>\n",
       "<table border=\"1\" class=\"dataframe\">\n",
       "  <thead>\n",
       "    <tr style=\"text-align: right;\">\n",
       "      <th></th>\n",
       "      <th>Title</th>\n",
       "      <th>MPAA</th>\n",
       "      <th>Budget</th>\n",
       "      <th>Gross</th>\n",
       "      <th>Length</th>\n",
       "      <th>Rating</th>\n",
       "    </tr>\n",
       "  </thead>\n",
       "  <tbody>\n",
       "    <tr>\n",
       "      <th>0</th>\n",
       "      <td>8 Mile</td>\n",
       "      <td>R</td>\n",
       "      <td>41.0</td>\n",
       "      <td>117</td>\n",
       "      <td>110</td>\n",
       "      <td>6.7</td>\n",
       "    </tr>\n",
       "    <tr>\n",
       "      <th>1</th>\n",
       "      <td>Alone in the Dark</td>\n",
       "      <td>R</td>\n",
       "      <td>20.0</td>\n",
       "      <td>5</td>\n",
       "      <td>96</td>\n",
       "      <td>2.2</td>\n",
       "    </tr>\n",
       "    <tr>\n",
       "      <th>2</th>\n",
       "      <td>Aviator</td>\n",
       "      <td>PG-13</td>\n",
       "      <td>116.0</td>\n",
       "      <td>103</td>\n",
       "      <td>170</td>\n",
       "      <td>7.6</td>\n",
       "    </tr>\n",
       "    <tr>\n",
       "      <th>3</th>\n",
       "      <td>Big Fish</td>\n",
       "      <td>PG-13</td>\n",
       "      <td>70.0</td>\n",
       "      <td>66</td>\n",
       "      <td>125</td>\n",
       "      <td>8.0</td>\n",
       "    </tr>\n",
       "    <tr>\n",
       "      <th>4</th>\n",
       "      <td>Bourne Identity</td>\n",
       "      <td>PG-13</td>\n",
       "      <td>75.0</td>\n",
       "      <td>121</td>\n",
       "      <td>119</td>\n",
       "      <td>7.4</td>\n",
       "    </tr>\n",
       "  </tbody>\n",
       "</table>\n",
       "</div>"
      ],
      "text/plain": [
       "               Title   MPAA  Budget  Gross  Length  Rating\n",
       "0             8 Mile      R    41.0    117     110     6.7\n",
       "1  Alone in the Dark      R    20.0      5      96     2.2\n",
       "2            Aviator  PG-13   116.0    103     170     7.6\n",
       "3           Big Fish  PG-13    70.0     66     125     8.0\n",
       "4    Bourne Identity  PG-13    75.0    121     119     7.4"
      ]
     },
     "execution_count": 9,
     "metadata": {},
     "output_type": "execute_result"
    }
   ],
   "source": [
    "data09 = pd.read_excel('./data2/09_MOVIES.xls')\n",
    "data09.head()"
   ]
  },
  {
   "cell_type": "code",
   "execution_count": 10,
   "metadata": {},
   "outputs": [
    {
     "name": "stdout",
     "output_type": "stream",
     "text": [
      "Số lượng phim có MPAA là R: 12\n",
      "Tổng số lượng phim: 35\n",
      "Tỷ lệ phim có MPAA là R: 0.34\n",
      "Giá trị tới hạn: 0.06\n",
      "Trị số kiểm định: -2.5\n"
     ]
    }
   ],
   "source": [
    "# Số lượng phim có MPAA là R\n",
    "phim_R = data09.loc[(data09['MPAA'] == 'R')].value_counts().sum()\n",
    "print('Số lượng phim có MPAA là R:', phim_R)\n",
    "\n",
    "# Tổng số lượng phim\n",
    "total = data09.value_counts().sum()\n",
    "print('Tổng số lượng phim:', total)\n",
    "\n",
    "# Tỷ lệ phim có MPAA là R\n",
    "rate_phim_R = (phim_R/total).round(2)\n",
    "print('Tỷ lệ phim có MPAA là R:', rate_phim_R)\n",
    "\n",
    "# Mức ý nghĩa\n",
    "alpha = 0.95\n",
    "po = 0.55\n",
    "\n",
    "# Tính giá trị tới hạn để xác định miền bác bỏ\n",
    "z = st.norm.isf(alpha/2).round(2)\n",
    "print('Giá trị tới hạn:', z)\n",
    "\n",
    "# Tính trị số kiểm định\n",
    "tri_kiem_dinh = ((rate_phim_R - po) / np.sqrt((po*(1-po))/total)).round(2)\n",
    "print('Trị số kiểm định:', tri_kiem_dinh)"
   ]
  },
  {
   "cell_type": "markdown",
   "metadata": {},
   "source": [
    "## Kiểm định đặc trưng kỳ vọng ($\\mu$) biết ($\\sigma$)"
   ]
  },
  {
   "cell_type": "markdown",
   "metadata": {},
   "source": [
    "### Bài 5\n",
    "\n",
    "Dataset 13 __(VOLTAGE)__ liệt kê các mức điện áp được đo tại các hộ gia đình bởi các máy đo khác nhau: tại nhà (HOME), tại máy phát độc lập (Generator), tại trạm phát (UPS).\n",
    "\n",
    "Công ty cung cấp điện cho vùng này cam kết rằng: __\"Mục tiêu cung cấp điện cho mỗi hộ gia đình là 120V\"__ . Biết rằng độ lệch chuẩn của tất cả các mức điện áp đo được là 0.24V.\n",
    "\n",
    "Với mức ý nghĩa 1%. Bạn hãy kiểm tra xem công ty có làm đúng cam kết hay không?"
   ]
  },
  {
   "cell_type": "code",
   "execution_count": 17,
   "metadata": {},
   "outputs": [
    {
     "data": {
      "text/html": [
       "<div>\n",
       "<style scoped>\n",
       "    .dataframe tbody tr th:only-of-type {\n",
       "        vertical-align: middle;\n",
       "    }\n",
       "\n",
       "    .dataframe tbody tr th {\n",
       "        vertical-align: top;\n",
       "    }\n",
       "\n",
       "    .dataframe thead th {\n",
       "        text-align: right;\n",
       "    }\n",
       "</style>\n",
       "<table border=\"1\" class=\"dataframe\">\n",
       "  <thead>\n",
       "    <tr style=\"text-align: right;\">\n",
       "      <th></th>\n",
       "      <th>Day</th>\n",
       "      <th>Home</th>\n",
       "      <th>Generator</th>\n",
       "      <th>UPS</th>\n",
       "    </tr>\n",
       "  </thead>\n",
       "  <tbody>\n",
       "    <tr>\n",
       "      <th>0</th>\n",
       "      <td>1</td>\n",
       "      <td>123.8</td>\n",
       "      <td>124.8</td>\n",
       "      <td>123.1</td>\n",
       "    </tr>\n",
       "    <tr>\n",
       "      <th>1</th>\n",
       "      <td>2</td>\n",
       "      <td>123.9</td>\n",
       "      <td>124.3</td>\n",
       "      <td>123.1</td>\n",
       "    </tr>\n",
       "    <tr>\n",
       "      <th>2</th>\n",
       "      <td>3</td>\n",
       "      <td>123.9</td>\n",
       "      <td>125.2</td>\n",
       "      <td>123.6</td>\n",
       "    </tr>\n",
       "    <tr>\n",
       "      <th>3</th>\n",
       "      <td>4</td>\n",
       "      <td>123.3</td>\n",
       "      <td>124.5</td>\n",
       "      <td>123.6</td>\n",
       "    </tr>\n",
       "    <tr>\n",
       "      <th>4</th>\n",
       "      <td>5</td>\n",
       "      <td>123.4</td>\n",
       "      <td>125.1</td>\n",
       "      <td>123.6</td>\n",
       "    </tr>\n",
       "  </tbody>\n",
       "</table>\n",
       "</div>"
      ],
      "text/plain": [
       "   Day   Home  Generator    UPS\n",
       "0    1  123.8      124.8  123.1\n",
       "1    2  123.9      124.3  123.1\n",
       "2    3  123.9      125.2  123.6\n",
       "3    4  123.3      124.5  123.6\n",
       "4    5  123.4      125.1  123.6"
      ]
     },
     "execution_count": 17,
     "metadata": {},
     "output_type": "execute_result"
    }
   ],
   "source": [
    "data13 = pd.read_excel('./data2/13_VOLTAGE.xls')\n",
    "data13.head()"
   ]
  },
  {
   "cell_type": "code",
   "execution_count": 49,
   "metadata": {},
   "outputs": [
    {
     "name": "stdout",
     "output_type": "stream",
     "text": [
      "Giá trị trung bình cung cấp điện cho mỗi hộ gia đình: 123.66\n",
      "Số lượng hộ gia đình: 40\n",
      "Giá trị tới hạn: 2.71\n",
      "Trị thống kê: 96.45\n"
     ]
    }
   ],
   "source": [
    "# Giá trị trung bình cung cấp điện cho mỗi hộ gia đình\n",
    "home_mean = data13['Home'].mean().round(2)\n",
    "print('Giá trị trung bình cung cấp điện cho mỗi hộ gia đình:', home_mean)\n",
    "\n",
    "# Số lượng hộ gia đình\n",
    "total = data13['Home'].count()\n",
    "print('Số lượng hộ gia đình:', total)\n",
    "\n",
    "# Mức ý nghĩa\n",
    "alpha = 0.01\n",
    "\n",
    "# Độ lệch chuẩn\n",
    "std = 0.24\n",
    "\n",
    "# Giá trị tới hạn để xác định miền bác bỏ\n",
    "t = st.t.isf(alpha/2, total-1).round(2)\n",
    "print('Giá trị tới hạn:', t)\n",
    "\n",
    "# Trị thống kê\n",
    "tri_thong_ke = ((home_mean - 120) / (std/np.sqrt(total))).round(2)\n",
    "print('Trị thống kê:', tri_thong_ke)"
   ]
  },
  {
   "cell_type": "markdown",
   "metadata": {},
   "source": [
    "## Kiểm định đặc trưng kỳ vọng ($\\mu$) không biết ($\\sigma$)"
   ]
  },
  {
   "cell_type": "markdown",
   "metadata": {},
   "source": [
    "### Bài 7\n",
    "\n",
    "Dataset 19(__SCREWS__) chứa thông tin khảo sát chiều dài một số đinh ốc được cung cấp bởi công ty Crown Bolt (đơn vị inches)\n",
    "\n",
    "Trên bao bì của các đinh ốc do công ty sản xuất có ghi chiều dài của các đinh ốc là 3/4 inches. Sử dụng mẫu trên bạn hãy cho biết chiều dài của đinh ốc lấy từ mẫu thu nhận được từ dữ liệu trên có nhất quán với chiều dài ghi trên bao bì hay không? Kiểm định với mức ý nghĩa 5%"
   ]
  },
  {
   "cell_type": "code",
   "execution_count": 40,
   "metadata": {},
   "outputs": [
    {
     "data": {
      "text/html": [
       "<div>\n",
       "<style scoped>\n",
       "    .dataframe tbody tr th:only-of-type {\n",
       "        vertical-align: middle;\n",
       "    }\n",
       "\n",
       "    .dataframe tbody tr th {\n",
       "        vertical-align: top;\n",
       "    }\n",
       "\n",
       "    .dataframe thead th {\n",
       "        text-align: right;\n",
       "    }\n",
       "</style>\n",
       "<table border=\"1\" class=\"dataframe\">\n",
       "  <thead>\n",
       "    <tr style=\"text-align: right;\">\n",
       "      <th></th>\n",
       "      <th>Lenghts</th>\n",
       "    </tr>\n",
       "  </thead>\n",
       "  <tbody>\n",
       "    <tr>\n",
       "      <th>0</th>\n",
       "      <td>0.757</td>\n",
       "    </tr>\n",
       "    <tr>\n",
       "      <th>1</th>\n",
       "      <td>0.723</td>\n",
       "    </tr>\n",
       "    <tr>\n",
       "      <th>2</th>\n",
       "      <td>0.754</td>\n",
       "    </tr>\n",
       "    <tr>\n",
       "      <th>3</th>\n",
       "      <td>0.737</td>\n",
       "    </tr>\n",
       "    <tr>\n",
       "      <th>4</th>\n",
       "      <td>0.757</td>\n",
       "    </tr>\n",
       "  </tbody>\n",
       "</table>\n",
       "</div>"
      ],
      "text/plain": [
       "   Lenghts\n",
       "0    0.757\n",
       "1    0.723\n",
       "2    0.754\n",
       "3    0.737\n",
       "4    0.757"
      ]
     },
     "execution_count": 40,
     "metadata": {},
     "output_type": "execute_result"
    }
   ],
   "source": [
    "data19 = pd.read_excel('./data2/19_SCREWS.xls', names=['Lenghts'], header=None)\n",
    "data19.head()"
   ]
  },
  {
   "cell_type": "code",
   "execution_count": 47,
   "metadata": {},
   "outputs": [
    {
     "name": "stdout",
     "output_type": "stream",
     "text": [
      "Giá trị trung bình của chiều dài các đinh ốc: 0.75\n",
      "Số lượng đinh ốc: 50\n",
      "Độ lệch chuẩn: 0.01\n",
      "Giá trị tới hạn: 2.01\n",
      "Trị thống kê: 0.0\n"
     ]
    }
   ],
   "source": [
    "# Giá trị trung bình của chiều dài các đinh ốc\n",
    "length_mean = data19['Lenghts'].mean().round(2)\n",
    "print('Giá trị trung bình của chiều dài các đinh ốc:', length_mean)\n",
    "\n",
    "# Số lượng đinh ốc\n",
    "total = data19['Lenghts'].count()\n",
    "print('Số lượng đinh ốc:', total)\n",
    "\n",
    "# Mức ý nghĩa\n",
    "alpha = 0.05\n",
    "\n",
    "# Độ lệch chuẩn\n",
    "std = data19['Lenghts'].std().round(2)\n",
    "print('Độ lệch chuẩn:', std)\n",
    "\n",
    "# Giá trị tới hạn để xác định miền bác bỏ\n",
    "t = st.t.isf(alpha/2, total-1).round(2)\n",
    "print('Giá trị tới hạn:', t)\n",
    "\n",
    "# Trị thống kê\n",
    "tri_thong_ke = ((length_mean - (0.75)) / (std/np.sqrt(total))).round(2)\n",
    "print('Trị thống kê:', tri_thong_ke)"
   ]
  },
  {
   "cell_type": "markdown",
   "metadata": {},
   "source": [
    "### Bài 8\n",
    "\n",
    "Dataset 13 __(VOLTAGE)__ liệt kê các mức điện áp được đo tại các hộ gia đình bởi các máy đo khác nhau: tại nhà (HOME), tại máy phát độc lập (Generator), tại trạm phát (UPS).\n",
    "\n",
    "Công ty cung cấp điện cho vùng này cam kết rằng: __\"Mục tiêu cung cấp điện cho mỗi hộ gia đình là 120V\"__ .\n",
    "\n",
    "Với mức ý nghĩa 1%. Bạn hãy kiểm tra xem công ty có làm đúng cam kết hay không?"
   ]
  },
  {
   "cell_type": "code",
   "execution_count": 50,
   "metadata": {},
   "outputs": [
    {
     "data": {
      "text/html": [
       "<div>\n",
       "<style scoped>\n",
       "    .dataframe tbody tr th:only-of-type {\n",
       "        vertical-align: middle;\n",
       "    }\n",
       "\n",
       "    .dataframe tbody tr th {\n",
       "        vertical-align: top;\n",
       "    }\n",
       "\n",
       "    .dataframe thead th {\n",
       "        text-align: right;\n",
       "    }\n",
       "</style>\n",
       "<table border=\"1\" class=\"dataframe\">\n",
       "  <thead>\n",
       "    <tr style=\"text-align: right;\">\n",
       "      <th></th>\n",
       "      <th>Day</th>\n",
       "      <th>Home</th>\n",
       "      <th>Generator</th>\n",
       "      <th>UPS</th>\n",
       "    </tr>\n",
       "  </thead>\n",
       "  <tbody>\n",
       "    <tr>\n",
       "      <th>0</th>\n",
       "      <td>1</td>\n",
       "      <td>123.8</td>\n",
       "      <td>124.8</td>\n",
       "      <td>123.1</td>\n",
       "    </tr>\n",
       "    <tr>\n",
       "      <th>1</th>\n",
       "      <td>2</td>\n",
       "      <td>123.9</td>\n",
       "      <td>124.3</td>\n",
       "      <td>123.1</td>\n",
       "    </tr>\n",
       "    <tr>\n",
       "      <th>2</th>\n",
       "      <td>3</td>\n",
       "      <td>123.9</td>\n",
       "      <td>125.2</td>\n",
       "      <td>123.6</td>\n",
       "    </tr>\n",
       "    <tr>\n",
       "      <th>3</th>\n",
       "      <td>4</td>\n",
       "      <td>123.3</td>\n",
       "      <td>124.5</td>\n",
       "      <td>123.6</td>\n",
       "    </tr>\n",
       "    <tr>\n",
       "      <th>4</th>\n",
       "      <td>5</td>\n",
       "      <td>123.4</td>\n",
       "      <td>125.1</td>\n",
       "      <td>123.6</td>\n",
       "    </tr>\n",
       "  </tbody>\n",
       "</table>\n",
       "</div>"
      ],
      "text/plain": [
       "   Day   Home  Generator    UPS\n",
       "0    1  123.8      124.8  123.1\n",
       "1    2  123.9      124.3  123.1\n",
       "2    3  123.9      125.2  123.6\n",
       "3    4  123.3      124.5  123.6\n",
       "4    5  123.4      125.1  123.6"
      ]
     },
     "execution_count": 50,
     "metadata": {},
     "output_type": "execute_result"
    }
   ],
   "source": []
  },
  {
   "cell_type": "markdown",
   "metadata": {},
   "source": [
    "### Bài 9\n",
    "\n",
    "Dataset 2 __(BODYTEMP)__ chứa thông tin khảo sát nhiệt độ cơ thể từ một nhóm người vào cùng một thời điểm lúc 12h trưa.\n",
    "\n",
    "Có một phát biểu nói rằng, nhiệt độ cơ thể người đo lúc 12h trưa trong quần thể này là 98,6°\n",
    "\n",
    "Dựa vào mẫu trên, bạn hãy cho biết phát biểu trên đúng hay sai ở mức ý nghĩa là 5%."
   ]
  },
  {
   "cell_type": "code",
   "execution_count": 54,
   "metadata": {},
   "outputs": [
    {
     "data": {
      "text/html": [
       "<div>\n",
       "<style scoped>\n",
       "    .dataframe tbody tr th:only-of-type {\n",
       "        vertical-align: middle;\n",
       "    }\n",
       "\n",
       "    .dataframe tbody tr th {\n",
       "        vertical-align: top;\n",
       "    }\n",
       "\n",
       "    .dataframe thead th {\n",
       "        text-align: right;\n",
       "    }\n",
       "</style>\n",
       "<table border=\"1\" class=\"dataframe\">\n",
       "  <thead>\n",
       "    <tr style=\"text-align: right;\">\n",
       "      <th></th>\n",
       "      <th>BodyTemp</th>\n",
       "    </tr>\n",
       "  </thead>\n",
       "  <tbody>\n",
       "    <tr>\n",
       "      <th>0</th>\n",
       "      <td>98.6</td>\n",
       "    </tr>\n",
       "    <tr>\n",
       "      <th>1</th>\n",
       "      <td>98.6</td>\n",
       "    </tr>\n",
       "    <tr>\n",
       "      <th>2</th>\n",
       "      <td>98.0</td>\n",
       "    </tr>\n",
       "    <tr>\n",
       "      <th>3</th>\n",
       "      <td>98.0</td>\n",
       "    </tr>\n",
       "    <tr>\n",
       "      <th>4</th>\n",
       "      <td>99.0</td>\n",
       "    </tr>\n",
       "  </tbody>\n",
       "</table>\n",
       "</div>"
      ],
      "text/plain": [
       "   BodyTemp\n",
       "0      98.6\n",
       "1      98.6\n",
       "2      98.0\n",
       "3      98.0\n",
       "4      99.0"
      ]
     },
     "execution_count": 54,
     "metadata": {},
     "output_type": "execute_result"
    }
   ],
   "source": [
    "data02 = pd.read_excel('./data2/02_BODYTEMP.xls', names=['BodyTemp'], header=None)\n",
    "data02.head()"
   ]
  },
  {
   "cell_type": "code",
   "execution_count": 56,
   "metadata": {},
   "outputs": [
    {
     "name": "stdout",
     "output_type": "stream",
     "text": [
      "Số lượng mẫu: 106\n",
      "Giá trị trung bình nhiệt độ cơ thể: 98.2\n",
      "Độ lệch chuẩn: 0.62\n",
      "Giá trị tới hạn: 1.98\n",
      "Trị thống kê: -6.64\n"
     ]
    }
   ],
   "source": [
    "mu = 98.6\n",
    "alpha = 0.05\n",
    "\n",
    "# Số lượng mẫu\n",
    "total = data02['BodyTemp'].count()\n",
    "print('Số lượng mẫu:', total)\n",
    "\n",
    "# Giá trị trung bình nhiệt độ cơ thể\n",
    "mean = data02['BodyTemp'].mean().round(2)\n",
    "print('Giá trị trung bình nhiệt độ cơ thể:', mean)\n",
    "\n",
    "# Độ lệch chuẩn\n",
    "std = data02['BodyTemp'].std().round(2)\n",
    "print('Độ lệch chuẩn:', std)\n",
    "\n",
    "# Giá trị tới hạn để xác định miền bác bỏ\n",
    "t = st.t.isf(alpha/2, total-1).round(2)\n",
    "print('Giá trị tới hạn:', t)\n",
    "\n",
    "# Trị thống kê\n",
    "tri_thong_ke = ((mean - mu) / (std/np.sqrt(total))).round(2)\n",
    "print('Trị thống kê:', tri_thong_ke)"
   ]
  },
  {
   "cell_type": "markdown",
   "metadata": {},
   "source": [
    "### Bài 10\n",
    "\n",
    "__FICO Score__ là đại lượng dùng để đo khả năng tín dụng của một cá nhân hoặc một tập thể. Sử dụng FICO Score, ngân hàng có thể quyết định xem có nên cho khách hàng mượn tiền hay không?\n",
    "\n",
    "Dataset 24 __(FICO)__ chứa thông tin điểm tín dụng (FICO Score) của một số cá nhân trong vùng.\n",
    "\n",
    "Sử dụng dữ liệu mẫu từ, bạn hãy cho biết ý kiến: __\"điểm tín dụng trung bình của quần thể là 678\"__ là đúng hay sai với mức ý nghĩa 5%"
   ]
  },
  {
   "cell_type": "code",
   "execution_count": 58,
   "metadata": {},
   "outputs": [
    {
     "data": {
      "text/html": [
       "<div>\n",
       "<style scoped>\n",
       "    .dataframe tbody tr th:only-of-type {\n",
       "        vertical-align: middle;\n",
       "    }\n",
       "\n",
       "    .dataframe tbody tr th {\n",
       "        vertical-align: top;\n",
       "    }\n",
       "\n",
       "    .dataframe thead th {\n",
       "        text-align: right;\n",
       "    }\n",
       "</style>\n",
       "<table border=\"1\" class=\"dataframe\">\n",
       "  <thead>\n",
       "    <tr style=\"text-align: right;\">\n",
       "      <th></th>\n",
       "      <th>FICO_Score</th>\n",
       "    </tr>\n",
       "  </thead>\n",
       "  <tbody>\n",
       "    <tr>\n",
       "      <th>0</th>\n",
       "      <td>708</td>\n",
       "    </tr>\n",
       "    <tr>\n",
       "      <th>1</th>\n",
       "      <td>713</td>\n",
       "    </tr>\n",
       "    <tr>\n",
       "      <th>2</th>\n",
       "      <td>781</td>\n",
       "    </tr>\n",
       "    <tr>\n",
       "      <th>3</th>\n",
       "      <td>809</td>\n",
       "    </tr>\n",
       "    <tr>\n",
       "      <th>4</th>\n",
       "      <td>797</td>\n",
       "    </tr>\n",
       "  </tbody>\n",
       "</table>\n",
       "</div>"
      ],
      "text/plain": [
       "   FICO_Score\n",
       "0         708\n",
       "1         713\n",
       "2         781\n",
       "3         809\n",
       "4         797"
      ]
     },
     "execution_count": 58,
     "metadata": {},
     "output_type": "execute_result"
    }
   ],
   "source": [
    "data24 = pd.read_excel('./data2/24_FICO.xls', names=['FICO_Score'], header=None)\n",
    "data24.head()"
   ]
  },
  {
   "cell_type": "code",
   "execution_count": 60,
   "metadata": {},
   "outputs": [
    {
     "name": "stdout",
     "output_type": "stream",
     "text": [
      "Số lượng tổng thể: 100\n",
      "Giá trị trung bình FICO Score: 703.11\n",
      "Độ lệch chuẩn: 92.23\n",
      "Giá trị tới hạn: 1.98\n",
      "Trị thống kê: 2.72\n"
     ]
    }
   ],
   "source": [
    "mu = 678\n",
    "alpha = 0.05\n",
    "\n",
    "# Số lượng tổng thể\n",
    "total = data24['FICO_Score'].count()\n",
    "print('Số lượng tổng thể:', total)\n",
    "\n",
    "# Giá trị trung bình FICO Score\n",
    "mean = data24['FICO_Score'].mean().round(2)\n",
    "print('Giá trị trung bình FICO Score:', mean)\n",
    "\n",
    "# Độ lệch chuẩn\n",
    "std = data24['FICO_Score'].std().round(2)\n",
    "print('Độ lệch chuẩn:', std)\n",
    "\n",
    "# Giá trị tới hạn để xác định miền bác bỏ\n",
    "t = st.t.isf(alpha/2, total-1).round(2)\n",
    "print('Giá trị tới hạn:', t)\n",
    "\n",
    "# Trị thống kê\n",
    "tri_thong_ke = ((mean - mu) / (std/np.sqrt(total))).round(2)\n",
    "print('Trị thống kê:', tri_thong_ke)"
   ]
  },
  {
   "cell_type": "markdown",
   "metadata": {},
   "source": [
    "---"
   ]
  }
 ],
 "metadata": {
  "kernelspec": {
   "display_name": "Python 3",
   "language": "python",
   "name": "python3"
  },
  "language_info": {
   "codemirror_mode": {
    "name": "ipython",
    "version": 3
   },
   "file_extension": ".py",
   "mimetype": "text/x-python",
   "name": "python",
   "nbconvert_exporter": "python",
   "pygments_lexer": "ipython3",
   "version": "3.11.8"
  }
 },
 "nbformat": 4,
 "nbformat_minor": 2
}
