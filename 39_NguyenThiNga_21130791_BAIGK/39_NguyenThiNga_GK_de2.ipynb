{
 "cells": [
  {
   "cell_type": "markdown",
   "metadata": {},
   "source": [
    "# Giữa kỳ\n",
    "\n",
    "## THÔNG TIN\n",
    "\n",
    "- Họ tên: Nguyễn Thị Nga\n",
    "- STT: 39\n",
    "- MSV : 21130791\n",
    "\n",
    "Bài thi GK"
   ]
  },
  {
   "cell_type": "code",
   "execution_count": 42,
   "metadata": {},
   "outputs": [],
   "source": [
    "# import library...\n",
    "import pandas as pd\n",
    "import numpy as np\n",
    "import matplotlib.pyplot as plt"
   ]
  },
  {
   "cell_type": "markdown",
   "metadata": {},
   "source": [
    "## ĐỀ BÀI\n",
    "\n",
    "Hệ thống giám sát rủi ro dựa trên hành vi (The Behavior Risk Factor Surveilance System - BRFSS) là một cuộc khảo sát qua điện thoại hàng năm với 350.000 người ở Hoa Kỳ. Như tên gọi của nó, BRFSS được thiết kế để xác định các yếu tố nguy cơ ở người trưởng thành và báo cáo các xu hướng sức khỏe mớ. Ví dụ, người trả lời được hỏi về chế độ ăn uống và hoạt động thể chất hàng tuần, tình trạng HIV/AIDS, khả năng sử dụng thuốc lá và thậm chí cả mức độ chi trả dịch vụ chăm sóc sức khỏe của họ. \n",
    "\n",
    "Bộ dữ liệu **brfss_2000** chứa thông tin khảo sát năm 2000, với hơn 200 thông tin. Trong bộ dữ liệu này, ta chỉ khảo sát một số thông tin sau:\n",
    "-\tgenhlth: người khảo sát tự đánh giá sức khỏe (excellent, very good, good, fair or poor)\n",
    "-\texerany: cho biết có hoạt động thể chất nào trong tháng gần nhất hay không, có (1), không (0)\n",
    "-\thlthplan: có bảo hiểm (1) hay không (0)\n",
    "-\tsmoke100: tổng số điếu thuốc đã hút ít nhất\n",
    "-\theight: chiều cao (inches)\n",
    "-\tweight: cân nặng (pounds)\n",
    "-\twtdesire:  cân nặng mong muốn(pounds)\n",
    "-\tage: tuổi\n",
    "-\tgender: giới tính: nam(m), nữ(f)\n"
   ]
  },
  {
   "cell_type": "markdown",
   "metadata": {},
   "source": [
    "### Câu 1: (1 điểm)\n",
    "\n",
    "Đọc hai bộ dữ liệu trên và cho biết mỗi bộ dữ liệu có kích thước bao nhiêu dòng, bao nhiêu cột?"
   ]
  },
  {
   "cell_type": "code",
   "execution_count": 43,
   "metadata": {},
   "outputs": [
    {
     "data": {
      "text/plain": [
       "(20000, 9)"
      ]
     },
     "execution_count": 43,
     "metadata": {},
     "output_type": "execute_result"
    }
   ],
   "source": [
    "df = pd.read_csv('brfss_2000.csv')\n",
    "df.shape"
   ]
  },
  {
   "cell_type": "markdown",
   "metadata": {},
   "source": [
    "### Câu 2 (2 điểm)\n",
    "\n",
    "a, (1 điểm) Tính tỷ lệ nam nữ\n",
    "\n",
    "b, (1 điểm) Trong số những người tập thể thao, tỷ lệ những người tự đánh giá có sức khỏe kém là bao nhiêu?"
   ]
  },
  {
   "cell_type": "code",
   "execution_count": 50,
   "metadata": {},
   "outputs": [
    {
     "name": "stdout",
     "output_type": "stream",
     "text": [
      "Tỉ lệ nam: 0.47845\n",
      "Tỉ lệ nữ: 0.52155\n",
      "Tỉ lệ nam/nữ: 0.9173617102866456\n"
     ]
    }
   ],
   "source": [
    "# a, (1 điểm) Tính tỷ lệ nam nữ\n",
    "gender_ratio = df['gender'].value_counts()\n",
    "\n",
    "male_ratio = gender_ratio['m'] / df.shape[0]\n",
    "female_ratio = gender_ratio['f']/df.shape[0]\n",
    "male_female_ratio = gender_ratio['m']/gender_ratio['f']\n",
    "\n",
    "print(\"Tỉ lệ nam:\",male_ratio)\n",
    "print(\"Tỉ lệ nữ:\",female_ratio)\n",
    "print(\"Tỉ lệ nam/nữ:\", male_female_ratio)\n"
   ]
  },
  {
   "cell_type": "code",
   "execution_count": 45,
   "metadata": {},
   "outputs": [
    {
     "data": {
      "text/plain": [
       "0.01964597022931474"
      ]
     },
     "execution_count": 45,
     "metadata": {},
     "output_type": "execute_result"
    }
   ],
   "source": [
    "# b, (1 điểm) Trong số những người tập thể thao, tỷ lệ những người tự đánh giá có sức khỏe kém là bao nhiêu?\n",
    "active_individuals = df[df['exerany'] == 1]\n",
    "poor_health_ratio = len(active_individuals[active_individuals['genhlth'] == 'poor']) / len(active_individuals)\n",
    "poor_health_ratio\n"
   ]
  },
  {
   "cell_type": "markdown",
   "metadata": {},
   "source": [
    "### Câu 3: (2 điểm)\n",
    "\n",
    "a, (1 điểm) Đổi đơn vị chiều cao từ inches sang centimet, đơn vị cân nặng từ pound sang kg.\n",
    "\n",
    "b, (1 điểm) Tính tỷ lệ những người muốn giảm cân."
   ]
  },
  {
   "cell_type": "code",
   "execution_count": 46,
   "metadata": {},
   "outputs": [
    {
     "name": "stdout",
     "output_type": "stream",
     "text": [
      "0        177.80\n",
      "1        162.56\n",
      "2        152.40\n",
      "3        167.64\n",
      "4        154.94\n",
      "          ...  \n",
      "19995    167.64\n",
      "19996    185.42\n",
      "19997    165.10\n",
      "19998    170.18\n",
      "19999    175.26\n",
      "Name: height_cm, Length: 20000, dtype: float64\n",
      "0        79.378665\n",
      "1        56.699046\n",
      "2        47.627199\n",
      "3        59.874193\n",
      "4        68.038855\n",
      "           ...    \n",
      "19995    97.522360\n",
      "19996    90.718474\n",
      "19997    97.975952\n",
      "19998    74.842741\n",
      "19999    77.110703\n",
      "Name: weight_kg, Length: 20000, dtype: float64\n"
     ]
    }
   ],
   "source": [
    "# a, (1 điểm) Đổi đơn vị chiều cao từ inches sang centimet, đơn vị cân nặng từ pound sang kg.\n",
    "df['height_cm'] = df['height'] * 2.54\n",
    "df['weight_kg'] = df['weight'] * 0.45359237\n",
    "\n",
    "print(df['height_cm'])\n",
    "print(df['weight_kg'])"
   ]
  },
  {
   "cell_type": "code",
   "execution_count": 47,
   "metadata": {},
   "outputs": [
    {
     "data": {
      "text/plain": [
       "0.6383934558133297"
      ]
     },
     "execution_count": 47,
     "metadata": {},
     "output_type": "execute_result"
    }
   ],
   "source": [
    "# b, (1 điểm) Tính tỷ lệ những người muốn giảm cân.\n",
    "ty_le_muon_giam_can = len(active_individuals[active_individuals['wtdesire'] < active_individuals['weight']]) / len(active_individuals)\n",
    "ty_le_muon_giam_can"
   ]
  },
  {
   "cell_type": "markdown",
   "metadata": {},
   "source": [
    "### Câu 4: (2 điểm)\n",
    "\n",
    "a, (1 điểm) Theo bạn trong các thuộc tính trên, thuộc tính nào có phân phối chuẩn. Vẽ hình minh họa\n",
    "\n",
    "b, (1 điểm) Vẽ đồ thị boxplot so sánh cân nặng của những người có tập thể dục"
   ]
  },
  {
   "cell_type": "code",
   "execution_count": 48,
   "metadata": {},
   "outputs": [
    {
     "data": {
      "image/png": "[encoded data removed]",
      "text/plain": [
       "<Figure size 640x480 with 1 Axes>"
      ]
     },
     "metadata": {},
     "output_type": "display_data"
    }
   ],
   "source": [
    "import scipy.stats as stats\n",
    "plt.hist(df['height'], bins=20, edgecolor='black')\n",
    "plt.xlabel('height')\n",
    "plt.ylabel('Frequency')\n",
    "plt.title(f'Distribution of height')\n",
    "plt.show()\n"
   ]
  },
  {
   "cell_type": "code",
   "execution_count": 52,
   "metadata": {},
   "outputs": [
    {
     "data": {
      "image/png": "[encoded data removed]",
      "text/plain": [
       "<Figure size 640x480 with 1 Axes>"
      ]
     },
     "metadata": {},
     "output_type": "display_data"
    }
   ],
   "source": [
    "# b, (1 điểm) Vẽ đồ thị boxplot so sánh cân nặng của những người có tập thể dục\n",
    "plt.boxplot(active_individuals['weight'])\n",
    "plt.xlabel('Exercise')\n",
    "plt.ylabel('Weight (kg)')\n",
    "plt.title('So sánh cân nặng của những người có tập thể dục')\n",
    "plt.show()\n"
   ]
  },
  {
   "cell_type": "markdown",
   "metadata": {},
   "source": [
    "---"
   ]
  }
 ],
 "metadata": {
  "kernelspec": {
   "display_name": "Python 3",
   "language": "python",
   "name": "python3"
  },
  "language_info": {
   "codemirror_mode": {
    "name": "ipython",
    "version": 3
   },
   "file_extension": ".py",
   "mimetype": "text/x-python",
   "name": "python",
   "nbconvert_exporter": "python",
   "pygments_lexer": "ipython3",
   "version": "3.11.8"
  }
 },
 "nbformat": 4,
 "nbformat_minor": 2
}
