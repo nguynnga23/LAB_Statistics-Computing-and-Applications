{
  "cells": [
    {
      "cell_type": "code",
      "execution_count": null,
      "metadata": {
        "_cell_guid": "79c7e3d0-c299-4dcb-8224-4455121ee9b0",
        "_uuid": "d629ff2d2480ee46fbb7e2d37f6b5fab8052498a",
        "id": "xTyX9IxHvNHY",
        "trusted": true
      },
      "outputs": [],
      "source": [
        "import pandas as pd\n",
        "import numpy as np\n",
        "import matplotlib.pyplot as plt\n",
        "import plotly.express as px"
      ]
    },
    {
      "cell_type": "markdown",
      "metadata": {
        "id": "KP2_iaVd0Tol"
      },
      "source": [
        "# NỘI DUNG 1: (7đ) Exploratory Data Analysis - EDA\n",
        "\n",
        "1. (0.5đ) Đoc dữ lịệu file `gapminder_tidy.csv`\n",
        "2. (1đ) Tính số năm `Year`, số quốc gia `Country` và số khu vực `region` được đưa vào dữ liệu\n",
        "3. (1đ) Các thuộc tính quan sát là `observed_features = ['fertility','life','child_mortality','gdp']`. Hãy vẽ đồ thị Histogram biểu diễn phân phối dữ liệu của các thuộc tính qua sát trên.\n",
        "4. (1đ) Bổ sung dữ liệu rỗng trong `observed_features` với giá trị trung bình của trường dữ liệu đó. Vẽ đồ thị `boxplot` cho các trường dữ liệu trong `observed_features`.\n",
        "5. (1.5đ) Vẽ biểu đồ `bar` cho các thuộc tính quan sát `observed_features` theo các khu vực và đưa ra nhận xét là khu vực nào cao nhất theo từng trường dữ liệu trong `observed_features`.\n",
        "6. (1đ) Tạo tập dữ liệu mới với tên quốc gia `country` làm chỉ mục (index) và giá trị là giá trị trung bình của tất cả các thuộc tính quan sát `observed_features`.\n",
        "7. (1đ) Tìm quốc gia có giá trị tối thiểu và tối đa cho từng thuộc tính\n"
      ]
    },
    {
      "cell_type": "markdown",
      "metadata": {
        "id": "n9vXs4EmTxTk"
      },
      "source": [
        "## 1. Đoc dữ lịệu file `gapminder_tidy.csv`"
      ]
    },
    {
      "cell_type": "markdown",
      "metadata": {
        "id": "oed0N0f7UH6W"
      },
      "source": [
        "## 2. Tính số năm `Year`, số quốc gia `Country` và số khu vực `region` được đưa vào dữ liệu"
      ]
    },
    {
      "cell_type": "markdown",
      "metadata": {
        "id": "haF8lSmYUO4m"
      },
      "source": [
        "## 3. Các thuộc tính quan sát là `observed_features`. Hãy vẽ đồ thị Histogram biểu diễn phân phối dữ liệu của các thuộc tính qua sát trên."
      ]
    },
    {
      "cell_type": "code",
      "execution_count": null,
      "metadata": {
        "id": "hiSqoeyGUVNZ"
      },
      "outputs": [],
      "source": [
        "observed_features = ['fertility','life','population','child_mortality','gdp']"
      ]
    },
    {
      "cell_type": "markdown",
      "metadata": {
        "id": "84y2gZ5bUZbO"
      },
      "source": [
        "## 4. Bổ sung dữ liệu rỗng trong `observed_features` với giá trị trung bình của trường dữ liệu đó. Vẽ đồ thị `boxplot` cho các trường dữ liệu trong `observed_features`."
      ]
    },
    {
      "cell_type": "markdown",
      "metadata": {
        "id": "h19YPU5vvNHb"
      },
      "source": [
        "## 5. Vẽ biểu đồ `bar` cho các thuộc tính quan sát `observed_features` theo các khu vực và đưa ra nhận xét là khu vực nào cao nhất theo từng trường dữ liệu trong `observed_features`."
      ]
    },
    {
      "cell_type": "markdown",
      "metadata": {
        "id": "nGPS14XivNHd"
      },
      "source": [
        "## 6. Tạo tập dữ liệu mới với tên quốc gia `country` làm chỉ mục (index) và giá trị là giá trị trung bình của tất cả các thuộc tính quan sát `observed_features`."
      ]
    },
    {
      "cell_type": "markdown",
      "metadata": {
        "id": "rFqJZx0hvNHd"
      },
      "source": [
        "##7. Tìm quốc gia có giá trị tối thiểu và tối đa cho từng thuộc tính\n",
        "\n"
      ]
    },
    {
      "cell_type": "markdown",
      "metadata": {
        "id": "r7oog2sHaXLk"
      },
      "source": [
        "# Nội Dung 2: (3đ) Phân phối xác suất"
      ]
    },
    {
      "cell_type": "markdown",
      "metadata": {
        "id": "1Xw9QeOQ-SmO"
      },
      "source": [
        "Các sản phẩm được sản xuất trong một dây chuyền. Để thực hiện kiểm tra chất\n",
        "lượng, mỗi giờ người ta rút ngẫu nhiên không hoàn lại 10 sản phẩm từ một hộp có 25 sản phẩm. Quá trình sản xuất được báo cáo là đạt yêu cầu nếu có không quá một sản phẩm là thứ phẩm.\n",
        "\n",
        "1. (1đ) Nếu tất cả các hộp được kiểm tra đều chứa chính xác hai thứ phẩm, thì xác suất quá trình sản xuất được báo cáo đạt yêu cầu ít nhất 7 lần trong một ngày làm việc 8 giờ là bao nhiêu?\n",
        "2. (1đ) Sử dụng phân phối Poisson để xấp xỉ xác suất được tính trong câu (a)\n",
        "3. (1đ) Biết rằng lần kiểm tra chất lượng cuối cùng trong câu (a), quá trình sản xuất được báocáo đạt yêu cầu. Hỏi xác suất mẫu 10 sản phẩm tương ứng không chứa thứ phẩm là bao nhiêu?"
      ]
    },
    {
      "cell_type": "code",
      "execution_count": null,
      "metadata": {
        "id": "fgRepGFL_lU5"
      },
      "outputs": [],
      "source": []
    }
  ],
  "metadata": {
    "colab": {
      "provenance": []
    },
    "kernelspec": {
      "display_name": "Python 3",
      "language": "python",
      "name": "python3"
    },
    "language_info": {
      "codemirror_mode": {
        "name": "ipython",
        "version": 3
      },
      "file_extension": ".py",
      "mimetype": "text/x-python",
      "name": "python",
      "nbconvert_exporter": "python",
      "pygments_lexer": "ipython3",
      "version": "3.11.5"
    }
  },
  "nbformat": 4,
  "nbformat_minor": 0
}
